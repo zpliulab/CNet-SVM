{
 "cells": [
  {
   "cell_type": "code",
   "execution_count": 4,
   "id": "f047d107",
   "metadata": {},
   "outputs": [
    {
     "name": "stdout",
     "output_type": "stream",
     "text": [
      "1.2.1\n"
     ]
    }
   ],
   "source": [
    "import os\n",
    "\n",
    "\n",
    "## pathway\n",
    "# filepath = '/Users/lilingyu/E/PhD/'\n",
    "filepath = '/home/lly/'\n",
    "\n",
    "## load data\n",
    "os.chdir(str(filepath) + 'R/SVM/Data/RTCGA')\n",
    "\n",
    "\n",
    "import sklearn\n",
    "print(sklearn.__version__)"
   ]
  },
  {
   "cell_type": "code",
   "execution_count": 40,
   "id": "8c62ebd6",
   "metadata": {},
   "outputs": [
    {
     "data": {
      "text/plain": [
       "(793, 224)"
      ]
     },
     "execution_count": 40,
     "metadata": {},
     "output_type": "execute_result"
    }
   ],
   "source": [
    "import numpy as np\n",
    "from pandas import DataFrame\n",
    "from sklearn.feature_selection import RFE\n",
    "\n",
    "import pandas as pd\n",
    "# load data\n",
    "dataframe = pd.read_table(\"TCGA_pro_outcome_TN_log_comp_UNgene_scale.txt\")\n",
    "dataframe.shape"
   ]
  },
  {
   "cell_type": "code",
   "execution_count": 41,
   "id": "cf918244",
   "metadata": {},
   "outputs": [
    {
     "name": "stdout",
     "output_type": "stream",
     "text": [
      "[0. 0. 0. 0. 0. 0. 0. 0. 0. 0. 0. 0. 0. 0. 0. 0. 0. 0. 0. 0. 0. 0. 0. 0.\n",
      " 0. 0. 0. 0. 0. 0. 0. 0. 0. 0. 0. 0. 0. 0. 0. 0. 0. 0. 0. 0. 0. 0. 0. 0.\n",
      " 0. 0. 0. 0. 0. 0. 0. 0. 0. 0. 0. 0. 0. 0. 0. 0. 0. 0. 0. 0. 0. 0. 0. 0.\n",
      " 0. 0. 0. 0. 0. 0. 0. 0. 0. 0. 0. 0. 0. 0. 0. 0. 0. 0. 0. 0. 0. 0. 0. 0.\n",
      " 0. 0. 0. 0. 0. 0. 0. 0. 0. 0. 0. 0. 0. 0. 0. 0. 1. 1. 1. 1. 1. 1. 1. 1.\n",
      " 1. 1. 1. 1. 1. 1. 1. 1. 1. 1. 1. 1. 1. 1. 1. 1. 1. 1. 1. 1. 1. 1. 1. 1.\n",
      " 1. 1. 1. 1. 1. 1. 1. 1. 1. 1. 1. 1. 1. 1. 1. 1. 1. 1. 1. 1. 1. 1. 1. 1.\n",
      " 1. 1. 1. 1. 1. 1. 1. 1. 1. 1. 1. 1. 1. 1. 1. 1. 1. 1. 1. 1. 1. 1. 1. 1.\n",
      " 1. 1. 1. 1. 1. 1. 1. 1. 1. 1. 1. 1. 1. 1. 1. 1. 1. 1. 1. 1. 1. 1. 1. 1.\n",
      " 1. 1. 1. 1. 1. 1. 1. 1.]\n"
     ]
    },
    {
     "data": {
      "text/plain": [
       "(792, 224)"
      ]
     },
     "execution_count": 41,
     "metadata": {},
     "output_type": "execute_result"
    }
   ],
   "source": [
    "# sample name\n",
    "samplenames = np.array(dataframe.columns)\n",
    "# print(samplenames)\n",
    "# featire name\n",
    "featurenames = np.array(dataframe.index)[1:792]\n",
    "# print(featurenames)\n",
    "# data form\n",
    "# esetarray = np.array(dataframe)\n",
    "# print(esetarray[0,])\n",
    "esetarray = np.array(dataframe)[1:793,]\n",
    "print(np.array(dataframe)[0,])\n",
    "esetarray.shape\n",
    "# esetarray = esetarray.transpose()"
   ]
  },
  {
   "cell_type": "code",
   "execution_count": 42,
   "id": "cfc5fd17",
   "metadata": {},
   "outputs": [
    {
     "name": "stdout",
     "output_type": "stream",
     "text": [
      "[0, 0, 0, 0, 0, 0, 0, 0, 0, 0, 0, 0, 0, 0, 0, 0, 0, 0, 0, 0, 0, 0, 0, 0, 0, 0, 0, 0, 0, 0, 0, 0, 0, 0, 0, 0, 0, 0, 0, 0, 0, 0, 0, 0, 0, 0, 0, 0, 0, 0, 0, 0, 0, 0, 0, 0, 0, 0, 0, 0, 0, 0, 0, 0, 0, 0, 0, 0, 0, 0, 0, 0, 0, 0, 0, 0, 0, 0, 0, 0, 0, 0, 0, 0, 0, 0, 0, 0, 0, 0, 0, 0, 0, 0, 0, 0, 0, 0, 0, 0, 0, 0, 0, 0, 0, 0, 0, 0, 0, 0, 0, 0, 1, 1, 1, 1, 1, 1, 1, 1, 1, 1, 1, 1, 1, 1, 1, 1, 1, 1, 1, 1, 1, 1, 1, 1, 1, 1, 1, 1, 1, 1, 1, 1, 1, 1, 1, 1, 1, 1, 1, 1, 1, 1, 1, 1, 1, 1, 1, 1, 1, 1, 1, 1, 1, 1, 1, 1, 1, 1, 1, 1, 1, 1, 1, 1, 1, 1, 1, 1, 1, 1, 1, 1, 1, 1, 1, 1, 1, 1, 1, 1, 1, 1, 1, 1, 1, 1, 1, 1, 1, 1, 1, 1, 1, 1, 1, 1, 1, 1, 1, 1, 1, 1, 1, 1, 1, 1, 1, 1, 1, 1, 1, 1]\n"
     ]
    }
   ],
   "source": [
    "sampletype = [0]*112+[1]*112\n",
    "\n",
    "p = 2022\n",
    "\n",
    "print(sampletype)"
   ]
  },
  {
   "cell_type": "code",
   "execution_count": 43,
   "id": "770d1926",
   "metadata": {},
   "outputs": [
    {
     "name": "stdout",
     "output_type": "stream",
     "text": [
      "RFE(estimator=RandomForestClassifier(random_state=2022), n_features_to_select=1)\n"
     ]
    }
   ],
   "source": [
    "#############################  RandomForestClassifier-RFE    ###############################\n",
    "\n",
    "from sklearn.ensemble import RandomForestClassifier\n",
    "rfe = RFE(estimator=RandomForestClassifier(random_state=p), n_features_to_select=1)\n",
    "print(rfe)"
   ]
  },
  {
   "cell_type": "code",
   "execution_count": 46,
   "id": "3b72590e",
   "metadata": {},
   "outputs": [
    {
     "data": {
      "text/html": [
       "<style>#sk-container-id-1 {color: black;background-color: white;}#sk-container-id-1 pre{padding: 0;}#sk-container-id-1 div.sk-toggleable {background-color: white;}#sk-container-id-1 label.sk-toggleable__label {cursor: pointer;display: block;width: 100%;margin-bottom: 0;padding: 0.3em;box-sizing: border-box;text-align: center;}#sk-container-id-1 label.sk-toggleable__label-arrow:before {content: \"▸\";float: left;margin-right: 0.25em;color: #696969;}#sk-container-id-1 label.sk-toggleable__label-arrow:hover:before {color: black;}#sk-container-id-1 div.sk-estimator:hover label.sk-toggleable__label-arrow:before {color: black;}#sk-container-id-1 div.sk-toggleable__content {max-height: 0;max-width: 0;overflow: hidden;text-align: left;background-color: #f0f8ff;}#sk-container-id-1 div.sk-toggleable__content pre {margin: 0.2em;color: black;border-radius: 0.25em;background-color: #f0f8ff;}#sk-container-id-1 input.sk-toggleable__control:checked~div.sk-toggleable__content {max-height: 200px;max-width: 100%;overflow: auto;}#sk-container-id-1 input.sk-toggleable__control:checked~label.sk-toggleable__label-arrow:before {content: \"▾\";}#sk-container-id-1 div.sk-estimator input.sk-toggleable__control:checked~label.sk-toggleable__label {background-color: #d4ebff;}#sk-container-id-1 div.sk-label input.sk-toggleable__control:checked~label.sk-toggleable__label {background-color: #d4ebff;}#sk-container-id-1 input.sk-hidden--visually {border: 0;clip: rect(1px 1px 1px 1px);clip: rect(1px, 1px, 1px, 1px);height: 1px;margin: -1px;overflow: hidden;padding: 0;position: absolute;width: 1px;}#sk-container-id-1 div.sk-estimator {font-family: monospace;background-color: #f0f8ff;border: 1px dotted black;border-radius: 0.25em;box-sizing: border-box;margin-bottom: 0.5em;}#sk-container-id-1 div.sk-estimator:hover {background-color: #d4ebff;}#sk-container-id-1 div.sk-parallel-item::after {content: \"\";width: 100%;border-bottom: 1px solid gray;flex-grow: 1;}#sk-container-id-1 div.sk-label:hover label.sk-toggleable__label {background-color: #d4ebff;}#sk-container-id-1 div.sk-serial::before {content: \"\";position: absolute;border-left: 1px solid gray;box-sizing: border-box;top: 0;bottom: 0;left: 50%;z-index: 0;}#sk-container-id-1 div.sk-serial {display: flex;flex-direction: column;align-items: center;background-color: white;padding-right: 0.2em;padding-left: 0.2em;position: relative;}#sk-container-id-1 div.sk-item {position: relative;z-index: 1;}#sk-container-id-1 div.sk-parallel {display: flex;align-items: stretch;justify-content: center;background-color: white;position: relative;}#sk-container-id-1 div.sk-item::before, #sk-container-id-1 div.sk-parallel-item::before {content: \"\";position: absolute;border-left: 1px solid gray;box-sizing: border-box;top: 0;bottom: 0;left: 50%;z-index: -1;}#sk-container-id-1 div.sk-parallel-item {display: flex;flex-direction: column;z-index: 1;position: relative;background-color: white;}#sk-container-id-1 div.sk-parallel-item:first-child::after {align-self: flex-end;width: 50%;}#sk-container-id-1 div.sk-parallel-item:last-child::after {align-self: flex-start;width: 50%;}#sk-container-id-1 div.sk-parallel-item:only-child::after {width: 0;}#sk-container-id-1 div.sk-dashed-wrapped {border: 1px dashed gray;margin: 0 0.4em 0.5em 0.4em;box-sizing: border-box;padding-bottom: 0.4em;background-color: white;}#sk-container-id-1 div.sk-label label {font-family: monospace;font-weight: bold;display: inline-block;line-height: 1.2em;}#sk-container-id-1 div.sk-label-container {text-align: center;}#sk-container-id-1 div.sk-container {/* jupyter's `normalize.less` sets `[hidden] { display: none; }` but bootstrap.min.css set `[hidden] { display: none !important; }` so we also need the `!important` here to be able to override the default hidden behavior on the sphinx rendered scikit-learn.org. See: https://github.com/scikit-learn/scikit-learn/issues/21755 */display: inline-block !important;position: relative;}#sk-container-id-1 div.sk-text-repr-fallback {display: none;}</style><div id=\"sk-container-id-1\" class=\"sk-top-container\"><div class=\"sk-text-repr-fallback\"><pre>RFE(estimator=RandomForestClassifier(random_state=2022), n_features_to_select=1)</pre><b>In a Jupyter environment, please rerun this cell to show the HTML representation or trust the notebook. <br />On GitHub, the HTML representation is unable to render, please try loading this page with nbviewer.org.</b></div><div class=\"sk-container\" hidden><div class=\"sk-item sk-dashed-wrapped\"><div class=\"sk-label-container\"><div class=\"sk-label sk-toggleable\"><input class=\"sk-toggleable__control sk-hidden--visually\" id=\"sk-estimator-id-1\" type=\"checkbox\" ><label for=\"sk-estimator-id-1\" class=\"sk-toggleable__label sk-toggleable__label-arrow\">RFE</label><div class=\"sk-toggleable__content\"><pre>RFE(estimator=RandomForestClassifier(random_state=2022), n_features_to_select=1)</pre></div></div></div><div class=\"sk-parallel\"><div class=\"sk-parallel-item\"><div class=\"sk-item\"><div class=\"sk-label-container\"><div class=\"sk-label sk-toggleable\"><input class=\"sk-toggleable__control sk-hidden--visually\" id=\"sk-estimator-id-2\" type=\"checkbox\" ><label for=\"sk-estimator-id-2\" class=\"sk-toggleable__label sk-toggleable__label-arrow\">estimator: RandomForestClassifier</label><div class=\"sk-toggleable__content\"><pre>RandomForestClassifier(random_state=2022)</pre></div></div></div><div class=\"sk-serial\"><div class=\"sk-item\"><div class=\"sk-estimator sk-toggleable\"><input class=\"sk-toggleable__control sk-hidden--visually\" id=\"sk-estimator-id-3\" type=\"checkbox\" ><label for=\"sk-estimator-id-3\" class=\"sk-toggleable__label sk-toggleable__label-arrow\">RandomForestClassifier</label><div class=\"sk-toggleable__content\"><pre>RandomForestClassifier(random_state=2022)</pre></div></div></div></div></div></div></div></div></div></div>"
      ],
      "text/plain": [
       "RFE(estimator=RandomForestClassifier(random_state=2022), n_features_to_select=1)"
      ]
     },
     "execution_count": 46,
     "metadata": {},
     "output_type": "execute_result"
    }
   ],
   "source": [
    "# fit the model\n",
    "\n",
    "esetarrayt = esetarray.T\n",
    "esetarrayt.shape\n",
    "\n",
    "\n",
    "rfe.fit(esetarrayt, sampletype)"
   ]
  },
  {
   "cell_type": "code",
   "execution_count": 48,
   "id": "ce53adaf",
   "metadata": {},
   "outputs": [
    {
     "name": "stdout",
     "output_type": "stream",
     "text": [
      "1\n",
      "[792 791 790 789 788 787 786 785 783 782 781 780 779 778 777 776 775 773\n",
      " 772 771 770 769 768 767 766 765 763 762 761 760 759 756 755 754 752 751\n",
      " 750 749 748 747 746 745 744 743 742 741 740 739 738 735 734 733 732 731\n",
      " 730 729 724 723 722 721 720 719 718 717 716 715 714 713 712 711 709 708\n",
      " 707 706 705 704 703 702 700 698 697 696 694 693 692 691 690 689 688 686\n",
      " 685 684 683 682 681 680 679 678 676 672 671 670 669 668 667 666 665 664\n",
      " 663 662 661 659 658 656 655 653 652 649 647 646 645 644 642 641 640 639\n",
      " 638 637 636 635 634 633 632 629 628 627 626 624 623 622 621 620 619 618\n",
      " 617 615 614 613 612 611 610 609 608 607 605 604 603 602 601 598 597 596\n",
      " 594 593 592 591 587 586 584 583 582 581 580 579 578 577 576 575 574 573\n",
      " 572 571 570 569 568 567 566 563 318 317 316 313 310 308 303 302 299 297\n",
      " 296 295 293 292 291 290 289 288 286 285 284 281 280 279 278 277 276 275\n",
      " 274 272 271 270 266 264 263 260 258 257 255 253 249 248 247 245 244 243\n",
      " 240 239 238 237 236 231 230 226 225 223 213 212 211 210 208 201 200 199\n",
      " 196 195 193 189 188 187 186 184 182 181 179 178 174 173 171 150  95  94\n",
      "  89  77  76  75  72  50  65  62  59  52  58  55 112  44  28  93 113 100\n",
      "  84 104  64 114   8  38 107  23 283 110  35  67 251 117  97 103  53 149\n",
      "  92 300 250 122 224  16 235 124 254 190 298 191 301  87  34 304 372  15\n",
      " 252 366 125 218 132 311  48 137  57 363 106 331  43 336 387  26 192  91\n",
      " 377 228  32 444 333 344 306 312 328 325 309  42 329 347 414  21 464 463\n",
      " 326 350 348 399 335 358 354 430 359 355 764 373  25 369 374 481 334 381\n",
      " 496 356 441 467 438 371 431 407 427 435 351 585 305 388 460   2 378 380\n",
      " 389 410  60 784 445 370 442 382 774 409 408  12 413 492 360 401 468 753\n",
      " 404 446 436 433 471 550 736 737  47 428 725 728 727 450 551 540 474 482\n",
      " 478 472 396 485 589 701 699 451 497 513 503   9 509 532 674 675 673 599\n",
      " 502 494 466 520 531 657 650 651 522 425 477 524 457 535 630 631 432 516\n",
      " 625 558 512 452 616 549 518  11 560 529 537 600 479 514 595 553 590 588\n",
      " 562 543 542 488 555 498 541 557 552 504 564 565 499 561 559 556 554 544\n",
      " 546 548 545 526 538 539 533 530 528 527 523 521 519 517 515 476 511 495\n",
      " 493 491 475 473 470 456 462 461 459 455 449 443 440 437 434 420  22 156\n",
      "  88 115 136 126 128 287 166 282 127 138 140 142 273 268 262 261 256 131\n",
      " 145 148 153 246 202 242 241 214 232 234  79 206 221 209 207 205 197 102\n",
      " 101  78  90 185 183 180 175 177 172 170 169 154  82 109 144  85  83  81\n",
      "  70  74 133 123  29  56 176  33  73 314 265 134  54 135  66 307 198 111\n",
      "  40 163  98 157  68  37  51  63  69 155 267 108  46  39  80 164  18 159\n",
      "  71 219 141  86  45 116 483 269 397 215  19 162 259 158 130  31 119 118\n",
      " 204  27 160 167  49  96 194 146 233 217  24 338 315 220 216  17 490 227\n",
      "  61 222 168 229 203 327 139 383 143 152 161  36  20 321 323 365 392 165\n",
      " 151 129  13 337 120 294 121 395 105 339 508   3 320  99 147  41 324 394\n",
      " 346 486 447 345 439 487 332 465 322 343 390 424 405 361 340 375 353 330\n",
      "   7 341 416 429 349 357 406 362 385 319 367 364 342  14 454 352 507 418\n",
      " 489   1 505 403 400 391 384 448 393   6 726 547 469 536 411 412 402 480\n",
      " 368 458 386   5 398 453 534 379 376 506 510  30 501 426 500  10 484   4\n",
      " 415 417 525 419 421 422 423 606 643 648 654 660 677 687 695 710 757 758]\n",
      "[False False False False False False False False False False False False\n",
      " False False False False False False False False False False False False\n",
      " False False False False False False False False False False False False\n",
      " False False False False False False False False False False False False\n",
      " False False False False False False False False False False False False\n",
      " False False False False False False False False False False False False\n",
      " False False False False False False False False False False False False\n",
      " False False False False False False False False False False False False\n",
      " False False False False False False False False False False False False\n",
      " False False False False False False False False False False False False\n",
      " False False False False False False False False False False False False\n",
      " False False False False False False False False False False False False\n",
      " False False False False False False False False False False False False\n",
      " False False False False False False False False False False False False\n",
      " False False False False False False False False False False False False\n",
      " False False False False False False False False False False False False\n",
      " False False False False False False False False False False False False\n",
      " False False False False False False False False False False False False\n",
      " False False False False False False False False False False False False\n",
      " False False False False False False False False False False False False\n",
      " False False False False False False False False False False False False\n",
      " False False False False False False False False False False False False\n",
      " False False False False False False False False False False False False\n",
      " False False False False False False False False False False False False\n",
      " False False False False False False False False False False False False\n",
      " False False False False False False False False False False False False\n",
      " False False False False False False False False False False False False\n",
      " False False False False False False False False False False False False\n",
      " False False False False False False False False False False False False\n",
      " False False False False False False False False False False False False\n",
      " False False False False False False False False False False False False\n",
      " False False False False False False False False False False False False\n",
      " False False False False False False False False False False False False\n",
      " False False False False False False False False False False False False\n",
      " False False False False False False False False False False False False\n",
      " False False False False False False False False False False False False\n",
      " False False False False False False False False False False False False\n",
      " False False False False False False False False False False False False\n",
      " False False False False False False False False False False False False\n",
      " False False False False False False False False False False False False\n",
      " False False False False False False False False False False False False\n",
      " False False False False False False False False False False False False\n",
      " False False False False False False False False False False False False\n",
      " False False False False False False False False False False False False\n",
      " False False False False False False False False False False False False\n",
      " False False False False False False False False False False False False\n",
      " False False False False False False False False False False False False\n",
      " False False False False False False False False False False False False\n",
      " False False False False False False False False False False False False\n",
      " False False False False False False False False False False False False\n",
      " False False False False False False False False False False False False\n",
      " False False False False False False False False False False False False\n",
      " False False False False False False False False False False False False\n",
      " False False False False False False False False False False False False\n",
      " False False False False False False False False False False False False\n",
      " False False False False False False False False False False False False\n",
      " False False False False False False False False False False False False\n",
      " False False False False False False False False False False False False\n",
      " False False False False False False False False False False False False\n",
      " False False False False False False False False False False False False\n",
      " False False False False False False False False False False False False\n",
      " False False False False False False False  True False False False False\n",
      " False False False False False False False False False False False False\n",
      " False False False False False False False False False False False False\n",
      " False False False False False False False False False False False False\n",
      " False False False False False False False False False False False False]\n",
      "791\n",
      "RandomForestClassifier(random_state=2022)\n"
     ]
    }
   ],
   "source": [
    "rfe.score(esetarrayt, sampletype)\n",
    "# 类拟合后，可以通过“ support_ ”属性查看输入变量的选择，该属性为每个输入变量提供True或False。\n",
    "rfe.support_\n",
    "# 和传参对应，所选择的属性的个数\n",
    "print(rfe.n_features_)\n",
    "# 打印的是相应位置上属性的排名\n",
    "print(rfe.ranking_)\n",
    "# 属性选择的一种模糊表示，选择的是true，未选择的是false\n",
    "print(rfe.support_)\n",
    "# 第1个属相的排名\n",
    "print(rfe.ranking_[1])\n",
    "# 外部估计函数的相关信息\n",
    "print(rfe.estimator_)\n"
   ]
  },
  {
   "cell_type": "code",
   "execution_count": 49,
   "id": "364a65ed",
   "metadata": {},
   "outputs": [
    {
     "name": "stdout",
     "output_type": "stream",
     "text": [
      "Features sorted by their rank:\n",
      "[(1, 'COL10A1'), (2, 'MMP11'), (3, 'TSLP'), (4, 'IBSP'), (5, 'PAMR1'), (6, 'CD300LG'), (7, 'COL11A1'), (8, 'FXYD1'), (9, 'ABCA10'), (10, 'LRRC3B'), (11, 'NEK2'), (12, 'HSD17B6'), (13, 'WISP1'), (14, 'MYH11'), (15, 'CCL11'), (16, 'INHBA'), (17, 'CST1'), (18, 'MESTIT1'), (19, 'DPP6'), (20, 'LRRC15'), (21, 'CA4'), (22, 'IGFBP6'), (23, 'BUB1'), (24, 'KCNE1'), (25, 'VIT'), (26, 'SCARA5'), (27, 'CLDN19'), (28, 'CXCL2'), (29, 'SLC24A2'), (30, 'OVCH2'), (31, 'HSD17B13'), (32, 'OXTR'), (33, 'MMP13'), (34, 'CLEC3B'), (35, 'AOC3'), (36, 'MYOM1'), (37, 'HBB'), (38, 'ANLN'), (39, 'HPSE2'), (40, 'FRMD1'), (41, 'TPX2'), (42, 'TNXB'), (43, 'COMP'), (44, 'MYEOV'), (45, 'EDN3'), (46, 'PKD1L2'), (47, 'FGF1'), (48, 'PLK1'), (49, 'NEIL3'), (50, 'ESM1'), (51, 'CD36'), (52, 'EPO'), (53, 'RPS6KB2'), (54, 'ADRA1A'), (55, 'FZD2'), (56, 'SGK2'), (57, 'DLK2'), (58, 'HEPACAM'), (59, 'CSAG1'), (60, 'LRRN4CL'), (61, 'PCOLCE2'), (62, 'COL4A2'), (63, 'DQX1'), (64, 'MSH2'), (65, 'ADH1B'), (66, 'FRAT2'), (67, 'RECQL5'), (68, 'EPB42'), (69, 'VSTM2A'), (70, 'ARAF'), (71, 'IL17B'), (72, 'NMU'), (73, 'KLKP1'), (74, 'MARCH4'), (75, 'PIK3CB'), (76, 'LHX2'), (77, 'P2RX6'), (78, 'TIMP4'), (79, 'B3GALT1'), (80, 'FGF10'), (81, 'IGFBP5'), (82, 'KIT'), (83, 'MTOR'), (84, 'MAGEA3'), (85, 'CASP8'), (86, 'WNT6'), (87, 'CNTNAP2'), (88, 'GRB2'), (89, 'DLK1'), (90, 'SCT'), (91, 'KCNH1'), (92, 'PRG4'), (93, 'APOB'), (94, 'PPM1D'), (95, 'NUF2'), (96, 'FHL1'), (97, 'SLC30A8'), (98, 'DIO1'), (99, 'HHATL'), (100, 'MAGEA2'), (101, 'TMEM145'), (102, 'MS4A7'), (103, 'SAA2'), (104, 'MAGEB2'), (105, 'LRP6'), (106, 'NMUR1'), (107, 'RBP4'), (108, 'PKHD1L1'), (109, 'JAG2'), (110, 'CDC42BPA'), (111, 'TNNT1'), (112, 'FGF21'), (113, 'ITIH2'), (114, 'MAGEC2'), (115, 'GLYAT'), (116, 'ABCB5'), (117, 'WNT10B'), (118, 'GPD1'), (119, 'GYS2'), (120, 'HBG1'), (121, 'ATP1A2'), (122, 'LEP'), (123, 'SHC3'), (124, 'GPR139'), (125, 'FABP6'), (126, 'FZD7'), (127, 'DLGAP5'), (128, 'FZD5'), (129, 'SLC22A12'), (130, 'PLIN1'), (131, 'ECT2'), (132, 'IGFL3'), (133, 'XRCC3'), (134, 'CHRNA9'), (135, 'NRAS'), (136, 'GABRD'), (137, 'RPS6KB1'), (138, 'DES'), (139, 'FGF9'), (140, 'CSNK1A1'), (141, 'FGF18'), (142, 'CPLX2'), (143, 'DEPDC1'), (144, 'CSN2'), (145, 'FGFR1'), (146, 'TGFB3'), (147, 'FGF17'), (148, 'PYDC1'), (149, 'PTEN'), (150, 'GPIHBP1'), (151, 'CDC20B'), (152, 'CAMP'), (153, 'ITGA7'), (154, 'MAGEA4'), (155, 'PVALB'), (156, 'HTR1D'), (157, 'CKAP2L'), (158, 'PLIN4'), (159, 'ABCC13'), (160, 'ADH4'), (161, 'NDST4'), (162, 'WNT9B'), (163, 'DVL3'), (164, 'ANGPTL5'), (165, 'FBXO40'), (166, 'FGF22'), (167, 'TRDN'), (168, 'MSLN'), (169, 'MMP1'), (170, 'MMP9'), (171, 'ACADL'), (172, 'KIF1A'), (173, 'GNAZ'), (174, 'CDO1'), (175, 'ASPA'), (176, 'S100P'), (177, 'ERBB2'), (178, 'APC2'), (179, 'CDKN1A'), (180, 'CGA'), (181, 'FRAT1'), (182, 'CDC20'), (183, 'CYP1A1'), (184, 'ALDH4A1'), (185, 'HES5'), (186, 'MAP2K2'), (187, 'THAP1'), (188, 'CEACAM6'), (189, 'PRAME'), (190, 'GADD45G'), (191, 'G0S2'), (192, 'HPD'), (193, 'CES1'), (194, 'TRPM3'), (195, 'CEACAM5'), (196, 'UHRF1'), (197, 'MSMB'), (198, 'FAM180B'), (199, 'RB1CC1'), (200, 'LIN28A'), (201, 'KLF15'), (202, 'PCK1'), (203, 'GLP2R'), (204, 'CPA2'), (205, 'TEX19'), (206, 'HS3ST4'), (207, 'DVL2'), (208, 'FOXJ1'), (209, 'SHC2'), (210, 'EGF'), (211, 'E2F8'), (212, 'TLX3'), (213, 'SMYD1'), (214, 'TNNT3'), (215, 'EGLN1'), (216, 'CST4'), (217, 'MYH1'), (218, 'CASP14'), (219, 'CIDEC'), (220, 'PI16'), (221, 'CDH1'), (222, 'MUC2'), (223, 'SIX3'), (224, 'KCNJ3'), (225, 'RB1'), (226, 'RAD51'), (227, 'UCHL5'), (228, 'NBN'), (229, 'HBG2'), (230, 'PITX1'), (231, 'NOTCH4'), (232, 'AXIN2'), (233, 'PPP1R1A'), (234, 'KRT37'), (235, 'IL19'), (236, 'NOTCH3'), (237, 'NOTCH2'), (238, 'NCOA3'), (239, 'NCOA1'), (240, 'MYT1'), (241, 'CCL7'), (242, 'RDH5'), (243, 'MCM6'), (244, 'INSM1'), (245, 'HIF3A'), (246, 'MAGEA6'), (247, 'HEYL'), (248, 'HEY2'), (249, 'HES1'), (250, 'NNAT'), (251, 'ZIC5'), (252, 'EGFR'), (253, 'HDAC1'), (254, 'GBX2'), (255, 'GATA5'), (256, 'BTNL9'), (257, 'GATA4'), (258, 'FOXM1'), (259, 'SPDYC'), (260, 'DDB2'), (261, 'AKT1'), (262, 'AP2B1'), (263, 'BRIP1'), (264, 'BARD1'), (265, 'FGF16'), (266, 'ATM'), (267, 'PROK1'), (268, 'AXIN1'), (269, 'HBA1'), (270, 'ASCL1'), (271, 'APC'), (272, 'AHR'), (273, 'CIDEA'), (274, 'ALX1'), (275, 'ARNT'), (276, 'ATF5'), (277, 'ATF6'), (278, 'ATF7'), (279, 'BACH1'), (280, 'BACH2'), (281, 'BBC3'), (282, 'FGF2'), (283, 'TNNI3'), (284, 'BPTF'), (285, 'BRCA2'), (286, 'CDC5L'), (287, 'FLT1'), (288, 'CREBBP'), (289, 'CTNNB1'), (290, 'CUX1'), (291, 'DDIT3'), (292, 'E2F3'), (293, 'E2F5'), (294, 'CST5'), (295, 'E2F7'), (296, 'ESR2'), (297, 'FOSB'), (298, 'GABRA3'), (299, 'FOXC1'), (300, 'PAX7'), (301, 'EXT1'), (302, 'FOXD1'), (303, 'FOXF2'), (304, 'CHEK2'), (305, 'NDC80'), (306, 'MAP2K1'), (307, 'DEFB132'), (308, 'FOXJ2'), (309, 'CCND1'), (310, 'FOXO1'), (311, 'MMP10'), (312, 'BAK1'), (313, 'FOXO3'), (314, 'HIST1H3G'), (315, 'TMEM151A'), (316, 'FOXO3B'), (317, 'FOXO4'), (318, 'HLF'), (319, 'C11orf65'), (320, 'PAPPA2'), (321, 'LRP5'), (322, 'FABP4'), (323, 'KLHL31'), (324, 'SYT13'), (325, 'RAD51C'), (326, 'FAM83D'), (327, 'GAL3ST2'), (328, 'BAX'), (329, 'WNT1'), (330, 'CYP3A4'), (331, 'HSPB6'), (332, 'ORM2'), (333, 'DTL'), (334, 'SLC2A4'), (335, 'WNT8A'), (336, 'HAPLN1'), (337, 'PDK4'), (338, 'CXCL10'), (339, 'EIF4E1B'), (340, 'SEL1L2'), (341, 'CHRNA6'), (342, 'OR2B6'), (343, 'AQP7P1'), (344, 'PHB'), (345, 'FGF20'), (346, 'HERC2'), (347, 'WNT7A'), (348, 'FGFBP2'), (349, 'ACACB'), (350, 'RTBDN'), (351, 'NPY2R'), (352, 'KLB'), (353, 'LGALS9B'), (354, 'WNT4'), (355, 'WNT16'), (356, 'SCUBE2'), (357, 'PIK3R2'), (358, 'WNT7B'), (359, 'WNT3'), (360, 'HIST1H2AM'), (361, 'SERF1A'), (362, 'KCNA2'), (363, 'CDK6'), (364, 'ABCA8'), (365, 'GLRA4'), (366, 'A2ML1'), (367, 'GNAT3'), (368, 'ANGPTL7'), (369, 'TRHDE'), (370, 'KY'), (371, 'PPP2R2C'), (372, 'CELF3'), (373, 'WIF1'), (374, 'STK32B'), (375, 'LHCGR'), (376, 'RPE65'), (377, 'LIPE'), (378, 'MLXIPL'), (379, 'CNIH2'), (380, 'MELK'), (381, 'SLC22A18'), (382, 'JAG1'), (383, 'FGF6'), (384, 'TMEM215'), (385, 'ELANE'), (386, 'RAB6B'), (387, 'CBLN2'), (388, 'NAT1'), (389, 'MASP1'), (390, 'AQP7'), (391, 'FZD1'), (392, 'GABRA4'), (393, 'RIMS4'), (394, 'PITRM1'), (395, 'WNT2'), (396, 'CAPSL'), (397, 'ADIPOQ'), (398, 'CILP2'), (399, 'DGAT2'), (400, 'HEPN1'), (401, 'HCN2'), (402, 'CSN1S1'), (403, 'HSPB7'), (404, 'GFAP'), (405, 'SLC19A3'), (406, 'PPBP'), (407, 'PIK3CA'), (408, 'IGF1'), (409, 'IL20'), (410, 'MAP1LC3C'), (411, 'TYRP1'), (412, 'EPHA8'), (413, 'HRAS'), (414, 'WNT11'), (415, 'WNT8B'), (416, 'CCL24'), (417, 'BMP3'), (418, 'FGF23'), (419, 'CA3'), (420, 'ITPKA'), (421, 'NXNL1'), (422, 'LRTM2'), (423, 'C2orf40'), (424, 'LGALS12'), (425, 'CCNE2'), (426, 'LYVE1'), (427, 'PENK'), (428, 'EBF4'), (429, 'ATP1A3'), (430, 'WNT3A'), (431, 'PIK3R1'), (432, 'RUNDC1'), (433, 'FZD4'), (434, 'KISS1R'), (435, 'NQO2'), (436, 'GADD45B'), (437, 'KRAS'), (438, 'PYGM'), (439, 'KLHL1'), (440, 'MTDH'), (441, 'RTN4RL1'), (442, 'KCNIP2'), (443, 'SYT5'), (444, 'PDE1C'), (445, 'LHX1'), (446, 'GDF10'), (447, 'GABRQ'), (448, 'SLC7A10'), (449, 'TNFSF11'), (450, 'CXCL11'), (451, 'ATOH8'), (452, 'PALB2'), (453, 'TNMD'), (454, 'CLEC3A'), (455, 'WNT2B'), (456, 'TFR2'), (457, 'CDCA7'), (458, 'TSPYL5'), (459, 'KREMEN2'), (460, 'MYOC'), (461, 'DVL1'), (462, 'GPAM'), (463, 'CDC73'), (464, 'CA9'), (465, 'ORM1'), (466, 'DCK'), (467, 'RAD54L'), (468, 'GRM4'), (469, 'POLK'), (470, 'PIK3CD'), (471, 'FZD3'), (472, 'CENPA'), (473, 'MS4A15'), (474, 'CRHBP'), (475, 'PIK3R3'), (476, 'GJB2'), (477, 'PKMYT1'), (478, 'CFD'), (479, 'KIF2C'), (480, 'PLAC1'), (481, 'SORBS1'), (482, 'CNN1'), (483, 'RAF1'), (484, 'KIAA0408'), (485, 'CAPN9'), (486, 'FGF4'), (487, 'LHFPL5'), (488, 'GMPS'), (489, 'FGF19'), (490, 'GPR180'), (491, 'PMS2'), (492, 'HJURP'), (493, 'PDE3B'), (494, 'WNT5A'), (495, 'FGF7'), (496, 'SHC4'), (497, 'ACVR1C'), (498, 'FZD10'), (499, 'CENPF'), (500, 'TMEM132C'), (501, 'FZD8'), (502, 'VGF'), (503, 'ABCD2'), (504, 'DLL4'), (505, 'PALM2'), (506, 'PFKFB1'), (507, 'FZD6'), (508, 'AKT3'), (509, 'AADAC'), (510, 'RNF186'), (511, 'GADD45A'), (512, 'PBK'), (513, 'ACTL8'), (514, 'KCNJ16'), (515, 'HMMR'), (516, 'RET'), (517, 'CDC25C'), (518, 'NELL2'), (519, 'KIF14'), (520, 'MSH6'), (521, 'DIAPH3'), (522, 'PRC1'), (523, 'XRCC2'), (524, 'IGF1R'), (525, 'S100A7A'), (526, 'IQGAP3'), (527, 'SHC1'), (528, 'CEP55'), (529, 'LIN9'), (530, 'ASPM'), (531, 'NUSAP1'), (532, 'GSK3B'), (533, 'SKA1'), (534, 'ENTHD1'), (535, 'TOP2A'), (536, 'PRRT4'), (537, 'KLK3'), (538, 'KIF18B'), (539, 'SPC24'), (540, 'CSF3'), (541, 'FANCM'), (542, 'GPX3'), (543, 'GRIA4'), (544, 'ACSM5'), (545, 'UBE2C'), (546, 'TROAP'), (547, 'DCT'), (548, 'KIF20A'), (549, 'NOTCH1'), (550, 'FLT4'), (551, 'CSMD3'), (552, 'EXO1'), (553, 'HORMAD1'), (554, 'AKT2'), (555, 'FZD9'), (556, 'BRSK2'), (557, 'FANCC'), (558, 'RASSF7'), (559, 'CDH20'), (560, 'LPL'), (561, 'CDK4'), (562, 'HBA2'), (563, 'HOXA9'), (564, 'DACT2'), (565, 'CHRDL1'), (566, 'HOXB13'), (567, 'IRF7'), (568, 'JUNB'), (569, 'KLF12'), (570, 'LMO2'), (571, 'MAPK1'), (572, 'MAPK3'), (573, 'MEIS1'), (574, 'MIF'), (575, 'CLEC5A'), (576, 'MYBL2'), (577, 'MZF1'), (578, 'NFE2L1'), (579, 'NFIL3'), (580, 'NFYC'), (581, 'NKX2-2'), (582, 'NR2F1'), (583, 'NR2F2'), (584, 'PATZ1'), (585, 'NPR1'), (586, 'PAX2'), (587, 'PBX1'), (588, 'HIST1H3H'), (589, 'C14orf180'), (590, 'HIST2H3C'), (591, 'PGR'), (592, 'POU3F1'), (593, 'POU3F2'), (594, 'POU3F3'), (595, 'HOXC12'), (596, 'RFX1'), (597, 'RREB1'), (598, 'RXRG'), (599, 'FEZF2'), (600, 'KIF4A'), (601, 'SOS1'), (602, 'SOS2'), (603, 'SOX9'), (604, 'TCF3'), (605, 'TCF7'), (606, 'LALBA'), (607, 'TCF7L1'), (608, 'TCF7L2'), (609, 'TFAP4'), (610, 'TGIF1'), (611, 'TLX1'), (612, 'TLX2'), (613, 'TOPORS'), (614, 'VSX2'), (615, 'WT1'), (616, 'OXCT1'), (617, 'XBP1'), (618, 'ZBTB6'), (619, 'AR'), (620, 'ATF1'), (621, 'ATF2'), (622, 'ATF4'), (623, 'CEBPA'), (624, 'E2F2'), (625, 'RDH16'), (626, 'EGR2'), (627, 'EGR3'), (628, 'HNF1A'), (629, 'LEF1'), (630, 'SLC6A4'), (631, 'SLC2A3'), (632, 'MYB'), (633, 'NFIC'), (634, 'NFKB2'), (635, 'PAX6'), (636, 'POU2F1'), (637, 'REL'), (638, 'RORA'), (639, 'SMAD3'), (640, 'SMAD4'), (641, 'STAT4'), (642, 'STAT6'), (643, 'KCNA4'), (644, 'CREB1'), (645, 'ELK1'), (646, 'PPARG'), (647, 'RELA'), (648, 'CSNK1A1L'), (649, 'STAT5A'), (650, 'RRM2'), (651, 'WNT9A'), (652, 'TP53'), (653, 'SETDB1'), (654, 'RAD21L1'), (655, 'BCLAF1'), (656, 'HMGN3'), (657, 'RFC4'), (658, 'SMC3'), (659, 'CCNT2'), (660, 'MAGEA1'), (661, 'BHLHE40'), (662, 'FOSL1'), (663, 'NANOG'), (664, 'MAFK'), (665, 'ZNF143'), (666, 'YY1'), (667, 'XRCC4'), (668, 'USF2'), (669, 'USF1'), (670, 'NR2C2'), (671, 'TFAP2C'), (672, 'TFAP2A'), (673, 'NXPH1'), (674, 'HIST1H2BO'), (675, 'EMX1'), (676, 'TCF12'), (677, 'CYP2B6'), (678, 'ZEB1'), (679, 'TCF4'), (680, 'TBP'), (681, 'TAL1'), (682, 'TAF7'), (683, 'TAF1'), (684, 'STAT3'), (685, 'STAT2'), (686, 'STAT1'), (687, 'SLC5A8'), (688, 'SRF'), (689, 'SREBF2'), (690, 'SREBF1'), (691, 'BRCA1'), (692, 'SPI1'), (693, 'SP2'), (694, 'SP1'), (695, 'ALAS2'), (696, 'SMARCC2'), (697, 'SMARCC1'), (698, 'SMARCB1'), (699, 'BMPR1B'), (700, 'SMARCA4'), (701, 'BRAF'), (702, 'PRDM1'), (703, 'RXRA'), (704, 'BCL3'), (705, 'RFX5'), (706, 'REST'), (707, 'RAD21'), (708, 'WRNIP1'), (709, 'BDP1'), (710, 'ADH1A'), (711, 'BRF2'), (712, 'POU5F1'), (713, 'POU2F2'), (714, 'BCL11A'), (715, 'SIRT6'), (716, 'ZBTB7A'), (717, 'PBX3'), (718, 'PAX5'), (719, 'NRF1'), (720, 'NFYB'), (721, 'NFYA'), (722, 'NFKB1'), (723, 'NFE2'), (724, 'ATF3'), (725, 'DUSP13'), (726, 'NKAIN1'), (727, 'DLL1'), (728, 'DLL3'), (729, 'MYC'), (730, 'MXI1'), (731, 'MEF2C'), (732, 'MEF2A'), (733, 'MAX'), (734, 'JUND'), (735, 'JUN'), (736, 'FGF8'), (737, 'FGF5'), (738, 'IRF4'), (739, 'IRF3'), (740, 'IRF1'), (741, 'HSF1'), (742, 'HNF4G'), (743, 'HNF4A'), (744, 'FOXA2'), (745, 'FOXA1'), (746, 'HDAC2'), (747, 'BRF1'), (748, 'GTF2F1'), (749, 'GTF2B'), (750, 'NR3C1'), (751, 'KAT2A'), (752, 'GATA3'), (753, 'GRIA2'), (754, 'GATA2'), (755, 'GATA1'), (756, 'ZZZ3'), (757, 'CLEC4G'), (759, 'SIN3A'), (760, 'GABPA'), (761, 'MAFF'), (762, 'FOSL2'), (763, 'FOS'), (764, 'WNT10A'), (765, 'SUZ12'), (766, 'HEY1'), (767, 'ETS1'), (768, 'ESRRA'), (769, 'ESR1'), (770, 'EP300'), (771, 'ELK4'), (772, 'ELF1'), (773, 'EGR1'), (774, 'ITLN1'), (775, 'EBF1'), (776, 'E2F6'), (777, 'E2F4'), (778, 'E2F1'), (779, 'CTBP2'), (780, 'SIX5'), (781, 'CTCFL'), (782, 'POLR3A'), (783, 'CHD2'), (784, 'LOC100133920'), (785, 'PPARGC1A'), (786, 'ZNF274'), (787, 'CTCF'), (788, 'BATF'), (789, 'CEBPB'), (790, 'TRIM28'), (791, 'ZNF263'), (792, 'ZBTB33')]\n"
     ]
    }
   ],
   "source": [
    "print(\"Features sorted by their rank:\")\n",
    "print(sorted(zip(map(lambda x: round(x, 4), rfe.ranking_), featurenames)))\n",
    "result = sorted(zip(map(lambda x: round(x, 4), rfe.ranking_), featurenames))\n",
    "resultframe = DataFrame(result)\n",
    "resultframe.to_csv(\"result/featurenew/CsvdataFeatureSeleOnce/ranklist_RFrfe.txt\", sep=\"\\t\")"
   ]
  }
 ],
 "metadata": {
  "kernelspec": {
   "display_name": "Python 3 (ipykernel)",
   "language": "python",
   "name": "python3"
  },
  "language_info": {
   "codemirror_mode": {
    "name": "ipython",
    "version": 3
   },
   "file_extension": ".py",
   "mimetype": "text/x-python",
   "name": "python",
   "nbconvert_exporter": "python",
   "pygments_lexer": "ipython3",
   "version": "3.11.0"
  }
 },
 "nbformat": 4,
 "nbformat_minor": 5
}
